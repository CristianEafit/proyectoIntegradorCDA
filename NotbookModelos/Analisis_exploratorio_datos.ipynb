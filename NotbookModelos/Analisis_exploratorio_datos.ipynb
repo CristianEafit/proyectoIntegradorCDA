{
 "cells": [
  {
   "cell_type": "code",
   "execution_count": 2,
   "id": "4f9268ad-3471-4d7a-b00e-419114e5a284",
   "metadata": {
    "tags": []
   },
   "outputs": [],
   "source": [
    "import boto3\n",
    "import pandas as pd\n",
    "import sys\n",
    "import pandas as pd\n",
    "import numpy as np\n",
    "import matplotlib.pyplot as plt\n",
    "import os\n",
    "import pathlib\n",
    "from sagemaker import get_execution_role\n",
    "from botocore.client import Config"
   ]
  },
  {
   "cell_type": "markdown",
   "id": "ff638375-60bd-406f-9c07-3f4b7e750c9e",
   "metadata": {
    "jp-MarkdownHeadingCollapsed": true,
    "tags": []
   },
   "source": [
    "### Leer los datos del bucket del proyecto en la zona Raw"
   ]
  },
  {
   "cell_type": "code",
   "execution_count": 3,
   "id": "1056e144-9ff6-4cae-9129-ffcb0589870d",
   "metadata": {
    "tags": []
   },
   "outputs": [],
   "source": [
    "if sys.version_info[0] < 3: \n",
    "    from StringIO import StringIO # Python 2.x\n",
    "else:\n",
    "    from io import StringIO # Python 3.x\n",
    "\n",
    "client = boto3.client('s3')\n",
    "bucket_name = 'prr-integrador-grupo3'\n",
    "object_key1 = 'Zona-raw/Precios/Precios por modelo_prov.csv'\n",
    "object_key2 = 'Zona-raw/RUNT/runt_Diario.txt'\n",
    "object_key3 = 'Zona-raw/Segmentos/Segmentos_por_modelo.csv'\n"
   ]
  },
  {
   "cell_type": "code",
   "execution_count": 4,
   "id": "0567d645-f39e-4397-9ce0-3db564efb8b8",
   "metadata": {
    "tags": []
   },
   "outputs": [],
   "source": [
    "csv_obj1 = client.get_object(Bucket=bucket_name, Key=object_key1)\n",
    "csv_obj2 = client.get_object(Bucket=bucket_name, Key=object_key2)\n",
    "csv_obj3 = client.get_object(Bucket=bucket_name, Key=object_key3)"
   ]
  },
  {
   "cell_type": "code",
   "execution_count": 5,
   "id": "0b104c46-9654-442d-b1eb-8d5559b6cae6",
   "metadata": {
    "tags": []
   },
   "outputs": [],
   "source": [
    "body1 = csv_obj1['Body']\n",
    "body2 = csv_obj2['Body']\n",
    "body3 = csv_obj3['Body']\n",
    "\n",
    "csv_string1 = body1.read().decode('utf-8')\n",
    "csv_string2 = body2.read().decode('utf-8')\n",
    "csv_string3 = body3.read().decode('utf-8')\n",
    "\n",
    "precios = pd.read_csv(StringIO(csv_string1))\n",
    "data = pd.read_csv(StringIO(csv_string2), sep = '\\t')\n",
    "segmentos = pd.read_csv(StringIO(csv_string3))"
   ]
  },
  {
   "cell_type": "code",
   "execution_count": 7,
   "id": "2842c24f-9531-4bc0-b3cb-18e0ff2aa9aa",
   "metadata": {
    "tags": []
   },
   "outputs": [
    {
     "data": {
      "text/html": [
       "<div>\n",
       "<style scoped>\n",
       "    .dataframe tbody tr th:only-of-type {\n",
       "        vertical-align: middle;\n",
       "    }\n",
       "\n",
       "    .dataframe tbody tr th {\n",
       "        vertical-align: top;\n",
       "    }\n",
       "\n",
       "    .dataframe thead th {\n",
       "        text-align: right;\n",
       "    }\n",
       "</style>\n",
       "<table border=\"1\" class=\"dataframe\">\n",
       "  <thead>\n",
       "    <tr style=\"text-align: right;\">\n",
       "      <th></th>\n",
       "      <th>Categoría</th>\n",
       "      <th>Combustible</th>\n",
       "      <th>Compañía</th>\n",
       "      <th>Día natural</th>\n",
       "      <th>Marca</th>\n",
       "      <th>Modelo</th>\n",
       "      <th>Cant. Total</th>\n",
       "    </tr>\n",
       "  </thead>\n",
       "  <tbody>\n",
       "    <tr>\n",
       "      <th>0</th>\n",
       "      <td>MOTORCYCLES</td>\n",
       "      <td>GASOLINA</td>\n",
       "      <td>YAMAHA</td>\n",
       "      <td>16/03/2021</td>\n",
       "      <td>YAMAHA</td>\n",
       "      <td>XTZ125</td>\n",
       "      <td>1</td>\n",
       "    </tr>\n",
       "    <tr>\n",
       "      <th>1</th>\n",
       "      <td>MOTORCYCLES</td>\n",
       "      <td>GASOLINA</td>\n",
       "      <td>YAMAHA</td>\n",
       "      <td>16/03/2021</td>\n",
       "      <td>YAMAHA</td>\n",
       "      <td>XTZ125</td>\n",
       "      <td>1</td>\n",
       "    </tr>\n",
       "    <tr>\n",
       "      <th>2</th>\n",
       "      <td>MOTORCYCLES</td>\n",
       "      <td>GASOLINA</td>\n",
       "      <td>YAMAHA</td>\n",
       "      <td>16/03/2021</td>\n",
       "      <td>YAMAHA</td>\n",
       "      <td>XTZ125</td>\n",
       "      <td>1</td>\n",
       "    </tr>\n",
       "    <tr>\n",
       "      <th>3</th>\n",
       "      <td>MOTORCYCLES</td>\n",
       "      <td>GASOLINA</td>\n",
       "      <td>YAMAHA</td>\n",
       "      <td>16/03/2021</td>\n",
       "      <td>YAMAHA</td>\n",
       "      <td>XTZ125</td>\n",
       "      <td>1</td>\n",
       "    </tr>\n",
       "    <tr>\n",
       "      <th>4</th>\n",
       "      <td>MOTORCYCLES</td>\n",
       "      <td>GASOLINA</td>\n",
       "      <td>YAMAHA</td>\n",
       "      <td>16/03/2021</td>\n",
       "      <td>YAMAHA</td>\n",
       "      <td>XTZ125</td>\n",
       "      <td>1</td>\n",
       "    </tr>\n",
       "  </tbody>\n",
       "</table>\n",
       "</div>"
      ],
      "text/plain": [
       "     Categoría Combustible Compañía Día natural   Marca  Modelo  Cant. Total\n",
       "0  MOTORCYCLES    GASOLINA   YAMAHA  16/03/2021  YAMAHA  XTZ125            1\n",
       "1  MOTORCYCLES    GASOLINA   YAMAHA  16/03/2021  YAMAHA  XTZ125            1\n",
       "2  MOTORCYCLES    GASOLINA   YAMAHA  16/03/2021  YAMAHA  XTZ125            1\n",
       "3  MOTORCYCLES    GASOLINA   YAMAHA  16/03/2021  YAMAHA  XTZ125            1\n",
       "4  MOTORCYCLES    GASOLINA   YAMAHA  16/03/2021  YAMAHA  XTZ125            1"
      ]
     },
     "execution_count": 7,
     "metadata": {},
     "output_type": "execute_result"
    }
   ],
   "source": [
    "data.head(5)"
   ]
  },
  {
   "cell_type": "code",
   "execution_count": 8,
   "id": "3d536223-77f5-4e46-955a-3dfdfe3ec1d1",
   "metadata": {
    "tags": []
   },
   "outputs": [],
   "source": [
    "precios['FECHA'] =  pd.to_datetime(precios['FECHA'], infer_datetime_format=True)\n",
    "data['Día natural']  = pd.to_datetime(data['Día natural'], infer_datetime_format=True)"
   ]
  },
  {
   "cell_type": "code",
   "execution_count": 9,
   "id": "9af24294-f0ca-4540-8515-658dddbb8a20",
   "metadata": {
    "tags": []
   },
   "outputs": [
    {
     "data": {
      "text/plain": [
       "array(['YAMAHA', 'OTRAS', 'UMA', 'AUTECO', 'HONDA', 'HERO', 'AKT',\n",
       "       'SUZUKI', 'MOBILITY', 'Sin asignar'], dtype=object)"
      ]
     },
     "execution_count": 9,
     "metadata": {},
     "output_type": "execute_result"
    }
   ],
   "source": [
    "#Compañias\n",
    "data.Compañía.unique()"
   ]
  },
  {
   "cell_type": "code",
   "execution_count": 10,
   "id": "96a7e658-3c63-41d1-9dae-a369b69fb28a",
   "metadata": {
    "tags": []
   },
   "outputs": [
    {
     "data": {
      "text/plain": [
       "array(['YAMAHA', 'BAJAJ', 'HONDA', 'AKT', 'SUZUKI', 'VICTORY', 'TVS',\n",
       "       'HERO', 'KYMCO', 'KTM', 'BENELLI', 'ROYAL ENFIELD', 'KAWASAKI',\n",
       "       'SYM', 'PIAGGIO', 'HM HONDA', 'SIN DEFINIR', 'HUSQVARNA', 'HAOJUE',\n",
       "       'AYCO', 'VESPA', 'TONGKO', 'ZAGA', 'BADER', 'AVA MOTORS', 'WEST',\n",
       "       'LINTEX', 'BK MOTO', 'SUPER SOCO', 'GVMCO', 'TVS-TYRES', 'APRILIA',\n",
       "       'BOSS ATV', 'MOTO ABC', 'POLARIS', 'LARETTO', 'ZNEN', 'JIALING',\n",
       "       'UM', 'YGM', 'KAZUKI', 'UNITED MOTORS', 'LML', 'MV AGUSTA',\n",
       "       'CAN-AM', 'SENKE', 'BETA', 'TX MOTORS', 'BOSS', 'TRIUMPH', 'ASA',\n",
       "       'LINHAI', 'ELEKTROMOTORES', 'MOTO GUZZI', 'N.S.U', 'LMX',\n",
       "       'REVOLUTION 250', 'SCOMADI', 'STARKER', 'ARCTIC CAT', 'HUSABERG',\n",
       "       'LIFAN', 'HUASHA', 'WEST PANTERA', 'SUNRA', 'JINLING',\n",
       "       'HARLEY DAVIDSON', 'BRP/CAN AM', 'MACBOR', 'CFMOTO', 'DUCATI',\n",
       "       'SIGMA', 'KEEWAY', 'BMW', 'NIU', 'VOLTA', 'ENERGY MOTION',\n",
       "       'BIOLOGICA', 'ZERO', 'E-RACE', 'WOLF', 'ELECTRIC E-BIKE GX',\n",
       "       'ELECTRIKA', 'BUELL', 'MACEV', 'AVA', 'CIRCULA VERDE', 'AIMA',\n",
       "       'CERONTE', 'NATSUKI', 'DONGBEN', 'XINLING', 'SHANYANG', 'ZONGSHEN',\n",
       "       'FULU', 'VAISAND', 'Sin asignar', 'PROTOTIPOS', 'GUZZI', 'VEDOVA',\n",
       "       'TEXTRON', 'ASIA HERO', 'KTX', 'CAN-AM OUTLANDER', 'UNICO',\n",
       "       'FRATELLI', 'LVN', 'O3 MOBILITY', 'SEAT', 'SEGWAY', '503'],\n",
       "      dtype=object)"
      ]
     },
     "execution_count": 10,
     "metadata": {},
     "output_type": "execute_result"
    }
   ],
   "source": [
    "#Marcas\n",
    "data.Marca.unique()"
   ]
  },
  {
   "cell_type": "code",
   "execution_count": 11,
   "id": "2ad48e3b-2de4-4535-a35f-2c7848072432",
   "metadata": {
    "tags": []
   },
   "outputs": [
    {
     "data": {
      "text/html": [
       "<div>\n",
       "<style scoped>\n",
       "    .dataframe tbody tr th:only-of-type {\n",
       "        vertical-align: middle;\n",
       "    }\n",
       "\n",
       "    .dataframe tbody tr th {\n",
       "        vertical-align: top;\n",
       "    }\n",
       "\n",
       "    .dataframe thead th {\n",
       "        text-align: right;\n",
       "    }\n",
       "</style>\n",
       "<table border=\"1\" class=\"dataframe\">\n",
       "  <thead>\n",
       "    <tr style=\"text-align: right;\">\n",
       "      <th></th>\n",
       "      <th>Categoría</th>\n",
       "      <th>Combustible</th>\n",
       "      <th>Día natural</th>\n",
       "      <th>Marca</th>\n",
       "      <th>Modelo</th>\n",
       "      <th>Cant. Total</th>\n",
       "    </tr>\n",
       "    <tr>\n",
       "      <th>Compañía</th>\n",
       "      <th></th>\n",
       "      <th></th>\n",
       "      <th></th>\n",
       "      <th></th>\n",
       "      <th></th>\n",
       "      <th></th>\n",
       "    </tr>\n",
       "  </thead>\n",
       "  <tbody>\n",
       "    <tr>\n",
       "      <th>AKT</th>\n",
       "      <td>360900</td>\n",
       "      <td>360900</td>\n",
       "      <td>360900</td>\n",
       "      <td>360900</td>\n",
       "      <td>360900</td>\n",
       "      <td>360900</td>\n",
       "    </tr>\n",
       "    <tr>\n",
       "      <th>AUTECO</th>\n",
       "      <td>302695</td>\n",
       "      <td>302695</td>\n",
       "      <td>302695</td>\n",
       "      <td>302695</td>\n",
       "      <td>302695</td>\n",
       "      <td>302695</td>\n",
       "    </tr>\n",
       "    <tr>\n",
       "      <th>HERO</th>\n",
       "      <td>109481</td>\n",
       "      <td>109481</td>\n",
       "      <td>109481</td>\n",
       "      <td>109481</td>\n",
       "      <td>109481</td>\n",
       "      <td>109481</td>\n",
       "    </tr>\n",
       "    <tr>\n",
       "      <th>HONDA</th>\n",
       "      <td>291653</td>\n",
       "      <td>291653</td>\n",
       "      <td>291653</td>\n",
       "      <td>291653</td>\n",
       "      <td>291653</td>\n",
       "      <td>291653</td>\n",
       "    </tr>\n",
       "    <tr>\n",
       "      <th>MOBILITY</th>\n",
       "      <td>346095</td>\n",
       "      <td>346095</td>\n",
       "      <td>346095</td>\n",
       "      <td>346095</td>\n",
       "      <td>346095</td>\n",
       "      <td>346095</td>\n",
       "    </tr>\n",
       "    <tr>\n",
       "      <th>OTRAS</th>\n",
       "      <td>32513</td>\n",
       "      <td>32513</td>\n",
       "      <td>32513</td>\n",
       "      <td>32513</td>\n",
       "      <td>32513</td>\n",
       "      <td>32513</td>\n",
       "    </tr>\n",
       "    <tr>\n",
       "      <th>SUZUKI</th>\n",
       "      <td>260329</td>\n",
       "      <td>260329</td>\n",
       "      <td>260329</td>\n",
       "      <td>260329</td>\n",
       "      <td>260329</td>\n",
       "      <td>260329</td>\n",
       "    </tr>\n",
       "    <tr>\n",
       "      <th>Sin asignar</th>\n",
       "      <td>29</td>\n",
       "      <td>29</td>\n",
       "      <td>29</td>\n",
       "      <td>29</td>\n",
       "      <td>29</td>\n",
       "      <td>29</td>\n",
       "    </tr>\n",
       "    <tr>\n",
       "      <th>UMA</th>\n",
       "      <td>277154</td>\n",
       "      <td>277154</td>\n",
       "      <td>277154</td>\n",
       "      <td>277154</td>\n",
       "      <td>277154</td>\n",
       "      <td>277154</td>\n",
       "    </tr>\n",
       "    <tr>\n",
       "      <th>YAMAHA</th>\n",
       "      <td>406724</td>\n",
       "      <td>406724</td>\n",
       "      <td>406724</td>\n",
       "      <td>406724</td>\n",
       "      <td>406724</td>\n",
       "      <td>406724</td>\n",
       "    </tr>\n",
       "  </tbody>\n",
       "</table>\n",
       "</div>"
      ],
      "text/plain": [
       "             Categoría  Combustible  Día natural   Marca  Modelo  Cant. Total\n",
       "Compañía                                                                     \n",
       "AKT             360900       360900       360900  360900  360900       360900\n",
       "AUTECO          302695       302695       302695  302695  302695       302695\n",
       "HERO            109481       109481       109481  109481  109481       109481\n",
       "HONDA           291653       291653       291653  291653  291653       291653\n",
       "MOBILITY        346095       346095       346095  346095  346095       346095\n",
       "OTRAS            32513        32513        32513   32513   32513        32513\n",
       "SUZUKI          260329       260329       260329  260329  260329       260329\n",
       "Sin asignar         29           29           29      29      29           29\n",
       "UMA             277154       277154       277154  277154  277154       277154\n",
       "YAMAHA          406724       406724       406724  406724  406724       406724"
      ]
     },
     "execution_count": 11,
     "metadata": {},
     "output_type": "execute_result"
    }
   ],
   "source": [
    "data.groupby('Compañía').count()"
   ]
  },
  {
   "cell_type": "markdown",
   "id": "b1d87b84-2980-4f6b-8c9f-a5eb3e4f5985",
   "metadata": {
    "jp-MarkdownHeadingCollapsed": true,
    "tags": []
   },
   "source": [
    "### Eliminación de Outliers"
   ]
  },
  {
   "cell_type": "code",
   "execution_count": 12,
   "id": "dec08a2e-90a6-4a39-838f-7358389edac3",
   "metadata": {
    "tags": []
   },
   "outputs": [],
   "source": [
    "#Eliminamos de dataframe algunos registros erroneos\n",
    "new_data = data[~(data.Modelo.isin(['#', 'NO TIENE', 'SIN REFERENCIA', 'SIN DEFINIR'])) & ~(data.Compañía.isin(['Sin asignar', 'OTRAS'])) & ~(data.Marca.isin(['Sin asignar', 'SIN DEFINIR']))].reset_index(drop=True)"
   ]
  },
  {
   "cell_type": "code",
   "execution_count": 13,
   "id": "cd7e0251-64cc-461a-98f0-902638b17845",
   "metadata": {
    "tags": []
   },
   "outputs": [
    {
     "data": {
      "text/html": [
       "<div>\n",
       "<style scoped>\n",
       "    .dataframe tbody tr th:only-of-type {\n",
       "        vertical-align: middle;\n",
       "    }\n",
       "\n",
       "    .dataframe tbody tr th {\n",
       "        vertical-align: top;\n",
       "    }\n",
       "\n",
       "    .dataframe thead th {\n",
       "        text-align: right;\n",
       "    }\n",
       "</style>\n",
       "<table border=\"1\" class=\"dataframe\">\n",
       "  <thead>\n",
       "    <tr style=\"text-align: right;\">\n",
       "      <th></th>\n",
       "      <th>Categoría</th>\n",
       "      <th>Combustible</th>\n",
       "      <th>Compañía</th>\n",
       "      <th>Día natural</th>\n",
       "      <th>Marca</th>\n",
       "      <th>Modelo</th>\n",
       "      <th>Cant. Total</th>\n",
       "    </tr>\n",
       "  </thead>\n",
       "  <tbody>\n",
       "    <tr>\n",
       "      <th>0</th>\n",
       "      <td>MOTORCYCLES</td>\n",
       "      <td>GASOLINA</td>\n",
       "      <td>YAMAHA</td>\n",
       "      <td>2021-03-16</td>\n",
       "      <td>YAMAHA</td>\n",
       "      <td>XTZ125</td>\n",
       "      <td>1</td>\n",
       "    </tr>\n",
       "    <tr>\n",
       "      <th>1</th>\n",
       "      <td>MOTORCYCLES</td>\n",
       "      <td>GASOLINA</td>\n",
       "      <td>YAMAHA</td>\n",
       "      <td>2021-03-16</td>\n",
       "      <td>YAMAHA</td>\n",
       "      <td>XTZ125</td>\n",
       "      <td>1</td>\n",
       "    </tr>\n",
       "    <tr>\n",
       "      <th>2</th>\n",
       "      <td>MOTORCYCLES</td>\n",
       "      <td>GASOLINA</td>\n",
       "      <td>YAMAHA</td>\n",
       "      <td>2021-03-16</td>\n",
       "      <td>YAMAHA</td>\n",
       "      <td>XTZ125</td>\n",
       "      <td>1</td>\n",
       "    </tr>\n",
       "    <tr>\n",
       "      <th>3</th>\n",
       "      <td>MOTORCYCLES</td>\n",
       "      <td>GASOLINA</td>\n",
       "      <td>YAMAHA</td>\n",
       "      <td>2021-03-16</td>\n",
       "      <td>YAMAHA</td>\n",
       "      <td>XTZ125</td>\n",
       "      <td>1</td>\n",
       "    </tr>\n",
       "    <tr>\n",
       "      <th>4</th>\n",
       "      <td>MOTORCYCLES</td>\n",
       "      <td>GASOLINA</td>\n",
       "      <td>YAMAHA</td>\n",
       "      <td>2021-03-16</td>\n",
       "      <td>YAMAHA</td>\n",
       "      <td>XTZ125</td>\n",
       "      <td>1</td>\n",
       "    </tr>\n",
       "  </tbody>\n",
       "</table>\n",
       "</div>"
      ],
      "text/plain": [
       "     Categoría Combustible Compañía Día natural   Marca  Modelo  Cant. Total\n",
       "0  MOTORCYCLES    GASOLINA   YAMAHA  2021-03-16  YAMAHA  XTZ125            1\n",
       "1  MOTORCYCLES    GASOLINA   YAMAHA  2021-03-16  YAMAHA  XTZ125            1\n",
       "2  MOTORCYCLES    GASOLINA   YAMAHA  2021-03-16  YAMAHA  XTZ125            1\n",
       "3  MOTORCYCLES    GASOLINA   YAMAHA  2021-03-16  YAMAHA  XTZ125            1\n",
       "4  MOTORCYCLES    GASOLINA   YAMAHA  2021-03-16  YAMAHA  XTZ125            1"
      ]
     },
     "execution_count": 13,
     "metadata": {},
     "output_type": "execute_result"
    }
   ],
   "source": [
    "new_data.head(5)"
   ]
  },
  {
   "cell_type": "markdown",
   "id": "cd0fc8ae-4b60-4e80-a2ae-a6640fbf7142",
   "metadata": {},
   "source": [
    "### Filtro por subsegmentos y construcción del dataframe para evaluar modelo"
   ]
  },
  {
   "cell_type": "code",
   "execution_count": 14,
   "id": "9db39d19-e852-46ab-a900-35a39f534ef9",
   "metadata": {
    "tags": []
   },
   "outputs": [],
   "source": [
    "df_segmento = segmentos[(segmentos.subsegmento == 'COMMUTER ENTRY')].reset_index(drop=True)\n",
    "df_segmento_list = df_segmento.Modelo.unique()"
   ]
  },
  {
   "cell_type": "code",
   "execution_count": 15,
   "id": "81bca503-f5f9-4709-83f6-35430f1a4ed5",
   "metadata": {
    "tags": []
   },
   "outputs": [
    {
     "data": {
      "text/plain": [
       "array(['AK 125 SL', 'AK125 NE', 'AK125 NKDR', 'AK125CR4', 'AK125CR4 EIII',\n",
       "       'AK125NKD EIII', 'AK125RL', 'AX 100', 'AX 4', 'AX4 EVOLUTION',\n",
       "       'AY 125 2EV', 'AY 125-7', 'AY100', 'BOMBER 125',\n",
       "       'BOXER BM100 CLASSIC ES', 'BOXER CARGO CT 100',\n",
       "       'BOXER CARGO CT 100 AHO', 'BOXER CARGO CT 100 ES', 'BOXER CT 100',\n",
       "       'BOXER CT 100 AHO', 'BOXER CT 100 ED. ANIVER', 'BOXER CT 100 ES',\n",
       "       'BOXER CT 100 ES TITANNIUM', 'BOXER CT 100 KS',\n",
       "       'BOXER CT 100 TITANNIUM', 'BOXER CT 125 ES', 'BOXER S', 'BS125',\n",
       "       'CB 110', 'CB 110 DLX', 'CITY100', 'COMBAT 125', 'CT100 ES ALLOY',\n",
       "       'CT100 ES SPOKE', 'CT100 KS SPOKE', 'CT125', 'CT125 ALLOY',\n",
       "       'DISCOVER 100 SPORT', 'DISCOVER 100S', 'DISCOVER 110',\n",
       "       'DISCOVER 125 UG', 'DISCOVER 125 UG CBS', 'DREAM NEO',\n",
       "       'DREAM NEO ACTIVA', 'ECO', 'ECO 100', 'ECO DELUXE',\n",
       "       'ECO DELUXE CW', 'ECO DELUXE ES', 'ECO DELUXE I3S',\n",
       "       'ECO DELUXE SP', 'GE110', 'GLAMOUR', 'GN 125', 'GN125H', 'GV-100',\n",
       "       'HAYATE EVOLUTION', 'IGNITOR', 'IMPETUS 2.0', 'MACH 110',\n",
       "       'MAX 125 SW', 'MAX125 SW', 'NITROX 125R', 'ONE ST 100',\n",
       "       'ONE ST 100 CARGO', 'ONE ST 100 SILVER', 'ONE ST 110',\n",
       "       'ONE ST 110 SILVER', 'PLATINA 125', 'PLATINO 100 SPORT',\n",
       "       'PLATINO 110', 'PLATINO 110 COMFORTEC',\n",
       "       'PLATINO 110 COMFORTEC DRL', 'PLATINO 125', 'PLATINO 125 5S',\n",
       "       'PLATINO 125 DRL', 'RA125', 'RKS100', 'SG 125-2A', 'SG100T',\n",
       "       'SIN DEFINIR', 'SPLENDOR 110', 'SPLENDOR ISMART',\n",
       "       'SPLENDOR NXG ES', 'SPLENDOR XPRO', 'SPORT 100 ELS',\n",
       "       'SPORT 100 ELS CARGO', 'SPORT 100 KLS', 'SPORT ELS SPOKE',\n",
       "       'SPORT KLS SPOKE', 'STRYKER 125 NG', 'SUPER SPLENDOR',\n",
       "       'SUZUKI 125', 'TVS SPORT', 'TVS STRYKER', 'VENT 1.5', 'X-PLUS',\n",
       "       'YC110D (YC-Z)'], dtype=object)"
      ]
     },
     "execution_count": 15,
     "metadata": {},
     "output_type": "execute_result"
    }
   ],
   "source": [
    "df_segmento_list"
   ]
  },
  {
   "cell_type": "code",
   "execution_count": 16,
   "id": "a417a0ce-0929-4bf4-8b52-25a57a4441ad",
   "metadata": {
    "tags": []
   },
   "outputs": [],
   "source": [
    "data_segmento = new_data[(new_data.Modelo.isin(df_segmento_list))].reset_index(drop=True)\n",
    "precios_segmento = precios[(precios.MODELO.isin(df_segmento_list))].reset_index(drop=True)"
   ]
  },
  {
   "cell_type": "code",
   "execution_count": 17,
   "id": "abe1df73-b41a-42bf-b712-ba36c2c0d03f",
   "metadata": {
    "tags": []
   },
   "outputs": [],
   "source": [
    "#Filtramo los datos a partir del 2021 (Post-pandemia)\n",
    "data_segmento = data_segmento[(data_segmento['Día natural'].dt.year > 2020)].reset_index(drop=True)\n",
    "#Ordenamos los datos cronologicamente\n",
    "data_segmento = data_segmento.sort_values('Día natural').reset_index(drop=True)\n",
    "#Filtramo los datos a partir del 2021 (Post-pandemia)\n",
    "precios_segmento = precios_segmento[(precios_segmento['FECHA'].dt.year > 2020)].reset_index(drop=True)\n",
    "#Ordenamos los datos cronologicamente\n",
    "precios_segmento = precios_segmento.sort_values('FECHA').reset_index(drop=True)"
   ]
  },
  {
   "cell_type": "code",
   "execution_count": 18,
   "id": "5190144e-9d3a-4d1d-9027-84342a95eb2c",
   "metadata": {
    "tags": []
   },
   "outputs": [],
   "source": [
    "Modelos_entry = precios_segmento.MODELO.unique()\n",
    "data_segmento = data_segmento[(data_segmento.Modelo.isin(Modelos_entry))].reset_index(drop=True)"
   ]
  },
  {
   "cell_type": "code",
   "execution_count": 19,
   "id": "2b15d2d5-b6b2-4310-afcd-8a96d4929d82",
   "metadata": {
    "tags": []
   },
   "outputs": [],
   "source": [
    "data_compañia = data_segmento.groupby(['Compañía', 'Marca', 'Modelo']).agg({'Cant. Total': 'count'})"
   ]
  },
  {
   "cell_type": "code",
   "execution_count": 21,
   "id": "efaa54e9-450a-4ce3-a2ca-ea2d1a11c3c8",
   "metadata": {
    "tags": []
   },
   "outputs": [
    {
     "name": "stdout",
     "output_type": "stream",
     "text": [
      "Referencia: ('AKT', 'AKT', 'AK125CR4'), Cant Total = 5\n",
      "Referencia: ('AKT', 'AKT', 'AK125CR4 EIII'), Cant Total = 31246\n",
      "Referencia: ('AKT', 'AKT', 'AK125NKD EIII'), Cant Total = 84397\n",
      "Referencia: ('AKT', 'TVS', 'SPORT 100 ELS'), Cant Total = 13\n",
      "Referencia: ('AKT', 'TVS', 'SPORT ELS SPOKE'), Cant Total = 8\n",
      "Referencia: ('AKT', 'TVS', 'SPORT KLS SPOKE'), Cant Total = 6\n",
      "Referencia: ('AKT', 'TVS', 'STRYKER 125 NG'), Cant Total = 13\n",
      "Referencia: ('AUTECO', 'BAJAJ', 'BOXER CT 100 ES'), Cant Total = 3150\n",
      "Referencia: ('AUTECO', 'BAJAJ', 'BOXER CT 100 ES TITANNIUM'), Cant Total = 932\n",
      "Referencia: ('AUTECO', 'BAJAJ', 'BOXER CT 100 KS'), Cant Total = 449\n",
      "Referencia: ('AUTECO', 'BAJAJ', 'BOXER S'), Cant Total = 1026\n",
      "Referencia: ('AUTECO', 'TVS', 'MAX125 SW'), Cant Total = 2205\n",
      "Referencia: ('AUTECO', 'TVS', 'SPORT 100 ELS'), Cant Total = 26197\n",
      "Referencia: ('AUTECO', 'TVS', 'SPORT 100 KLS'), Cant Total = 7026\n",
      "Referencia: ('AUTECO', 'TVS', 'SPORT ELS SPOKE'), Cant Total = 5826\n",
      "Referencia: ('AUTECO', 'TVS', 'SPORT KLS SPOKE'), Cant Total = 2559\n",
      "Referencia: ('AUTECO', 'TVS', 'STRYKER 125 NG'), Cant Total = 8027\n",
      "Referencia: ('HERO', 'HERO', 'ECO DELUXE CW'), Cant Total = 21826\n",
      "Referencia: ('HERO', 'HERO', 'IGNITOR'), Cant Total = 9776\n",
      "Referencia: ('HERO', 'HERO', 'SPLENDOR 110'), Cant Total = 3269\n",
      "Referencia: ('HERO', 'HONDA', 'ECO 100'), Cant Total = 6413\n",
      "Referencia: ('HONDA', 'HONDA', 'CB 110'), Cant Total = 10282\n",
      "Referencia: ('MOBILITY', 'VICTORY', 'BOMBER 125'), Cant Total = 4761\n",
      "Referencia: ('MOBILITY', 'VICTORY', 'COMBAT 125'), Cant Total = 7236\n",
      "Referencia: ('MOBILITY', 'VICTORY', 'ONE ST 100'), Cant Total = 9793\n",
      "Referencia: ('MOBILITY', 'VICTORY', 'ONE ST 100 CARGO'), Cant Total = 505\n",
      "Referencia: ('MOBILITY', 'VICTORY', 'ONE ST 100 SILVER'), Cant Total = 2941\n",
      "Referencia: ('MOBILITY', 'VICTORY', 'ONE ST 110'), Cant Total = 653\n",
      "Referencia: ('MOBILITY', 'VICTORY', 'ONE ST 110 SILVER'), Cant Total = 2839\n",
      "Referencia: ('SUZUKI', 'SUZUKI', 'AX 4'), Cant Total = 14138\n",
      "Referencia: ('SUZUKI', 'SUZUKI', 'AX4 EVOLUTION'), Cant Total = 5609\n",
      "Referencia: ('SUZUKI', 'SUZUKI', 'GN 125'), Cant Total = 41821\n",
      "Referencia: ('SUZUKI', 'SUZUKI', 'HAYATE EVOLUTION'), Cant Total = 480\n",
      "Referencia: ('UMA', 'BAJAJ', 'BOXER CT 100 ES'), Cant Total = 10\n",
      "Referencia: ('UMA', 'BAJAJ', 'BOXER CT 100 ES TITANNIUM'), Cant Total = 3\n",
      "Referencia: ('UMA', 'BAJAJ', 'BOXER S'), Cant Total = 8179\n",
      "Referencia: ('UMA', 'BAJAJ', 'CT100 ES ALLOY'), Cant Total = 10947\n",
      "Referencia: ('UMA', 'BAJAJ', 'CT100 ES SPOKE'), Cant Total = 32590\n",
      "Referencia: ('UMA', 'BAJAJ', 'CT100 KS SPOKE'), Cant Total = 55099\n",
      "Referencia: ('UMA', 'BAJAJ', 'CT125'), Cant Total = 7983\n",
      "Referencia: ('UMA', 'BAJAJ', 'CT125 ALLOY'), Cant Total = 2081\n",
      "Referencia: ('UMA', 'BAJAJ', 'PLATINA 125'), Cant Total = 4540\n",
      "Referencia: ('UMA', 'BAJAJ', 'PLATINO 125'), Cant Total = 12\n",
      "Referencia: ('YAMAHA', 'YAMAHA', 'YC110D (YC-Z)'), Cant Total = 11260\n"
     ]
    }
   ],
   "source": [
    "for i in range(len(data_compañia)):\n",
    "    print('Referencia: {}, Cant Total = {}'.format(data_compañia.index[i], data_compañia['Cant. Total'][data_compañia.index[i]]))"
   ]
  },
  {
   "cell_type": "code",
   "execution_count": 22,
   "id": "f8d1746f-21af-428b-a424-6326de8da5df",
   "metadata": {
    "tags": []
   },
   "outputs": [],
   "source": [
    "week = []\n",
    "for i in range(len(data_segmento)):\n",
    "    week.append('{}-{}'.format(data_segmento['Día natural'][i].isocalendar()[0],data_segmento['Día natural'][i].isocalendar()[1]))"
   ]
  },
  {
   "cell_type": "code",
   "execution_count": 23,
   "id": "25cc1669-0069-4ceb-aa63-b3235483fac2",
   "metadata": {
    "tags": []
   },
   "outputs": [],
   "source": [
    "data_segmento['week'] = week"
   ]
  },
  {
   "cell_type": "code",
   "execution_count": 24,
   "id": "b2f7f143-90dc-4dba-80f3-70eb013d5f42",
   "metadata": {
    "tags": []
   },
   "outputs": [
    {
     "data": {
      "text/html": [
       "<div>\n",
       "<style scoped>\n",
       "    .dataframe tbody tr th:only-of-type {\n",
       "        vertical-align: middle;\n",
       "    }\n",
       "\n",
       "    .dataframe tbody tr th {\n",
       "        vertical-align: top;\n",
       "    }\n",
       "\n",
       "    .dataframe thead th {\n",
       "        text-align: right;\n",
       "    }\n",
       "</style>\n",
       "<table border=\"1\" class=\"dataframe\">\n",
       "  <thead>\n",
       "    <tr style=\"text-align: right;\">\n",
       "      <th></th>\n",
       "      <th>Categoría</th>\n",
       "      <th>Combustible</th>\n",
       "      <th>Compañía</th>\n",
       "      <th>Día natural</th>\n",
       "      <th>Marca</th>\n",
       "      <th>Modelo</th>\n",
       "      <th>Cant. Total</th>\n",
       "      <th>week</th>\n",
       "    </tr>\n",
       "  </thead>\n",
       "  <tbody>\n",
       "    <tr>\n",
       "      <th>0</th>\n",
       "      <td>MOTORCYCLES</td>\n",
       "      <td>GASOLINA</td>\n",
       "      <td>AUTECO</td>\n",
       "      <td>2021-01-04</td>\n",
       "      <td>BAJAJ</td>\n",
       "      <td>BOXER S</td>\n",
       "      <td>1</td>\n",
       "      <td>2021-1</td>\n",
       "    </tr>\n",
       "    <tr>\n",
       "      <th>1</th>\n",
       "      <td>MOTORCYCLES</td>\n",
       "      <td>GASOLINA</td>\n",
       "      <td>AKT</td>\n",
       "      <td>2021-01-04</td>\n",
       "      <td>AKT</td>\n",
       "      <td>AK125NKD EIII</td>\n",
       "      <td>1</td>\n",
       "      <td>2021-1</td>\n",
       "    </tr>\n",
       "    <tr>\n",
       "      <th>2</th>\n",
       "      <td>MOTORCYCLES</td>\n",
       "      <td>GASOLINA</td>\n",
       "      <td>AUTECO</td>\n",
       "      <td>2021-01-04</td>\n",
       "      <td>BAJAJ</td>\n",
       "      <td>BOXER CT 100 ES</td>\n",
       "      <td>1</td>\n",
       "      <td>2021-1</td>\n",
       "    </tr>\n",
       "    <tr>\n",
       "      <th>3</th>\n",
       "      <td>MOTORCYCLES</td>\n",
       "      <td>GASOLINA</td>\n",
       "      <td>AUTECO</td>\n",
       "      <td>2021-01-04</td>\n",
       "      <td>BAJAJ</td>\n",
       "      <td>BOXER CT 100 ES</td>\n",
       "      <td>1</td>\n",
       "      <td>2021-1</td>\n",
       "    </tr>\n",
       "    <tr>\n",
       "      <th>4</th>\n",
       "      <td>MOTORCYCLES</td>\n",
       "      <td>GASOLINA</td>\n",
       "      <td>AKT</td>\n",
       "      <td>2021-01-04</td>\n",
       "      <td>AKT</td>\n",
       "      <td>AK125NKD EIII</td>\n",
       "      <td>1</td>\n",
       "      <td>2021-1</td>\n",
       "    </tr>\n",
       "  </tbody>\n",
       "</table>\n",
       "</div>"
      ],
      "text/plain": [
       "     Categoría Combustible Compañía Día natural  Marca           Modelo  \\\n",
       "0  MOTORCYCLES    GASOLINA   AUTECO  2021-01-04  BAJAJ          BOXER S   \n",
       "1  MOTORCYCLES    GASOLINA      AKT  2021-01-04    AKT    AK125NKD EIII   \n",
       "2  MOTORCYCLES    GASOLINA   AUTECO  2021-01-04  BAJAJ  BOXER CT 100 ES   \n",
       "3  MOTORCYCLES    GASOLINA   AUTECO  2021-01-04  BAJAJ  BOXER CT 100 ES   \n",
       "4  MOTORCYCLES    GASOLINA      AKT  2021-01-04    AKT    AK125NKD EIII   \n",
       "\n",
       "   Cant. Total    week  \n",
       "0            1  2021-1  \n",
       "1            1  2021-1  \n",
       "2            1  2021-1  \n",
       "3            1  2021-1  \n",
       "4            1  2021-1  "
      ]
     },
     "execution_count": 24,
     "metadata": {},
     "output_type": "execute_result"
    }
   ],
   "source": [
    "data_segmento.head(5)"
   ]
  },
  {
   "cell_type": "code",
   "execution_count": 25,
   "id": "c6722192-3ba1-402c-894c-1032afda3954",
   "metadata": {
    "tags": []
   },
   "outputs": [],
   "source": [
    "precios_full = ['AK125CR4 EIII', 'ECO DELUXE CW', 'GN 125','BOXER S','YC110D (YC-Z)', 'SPORT 100 ELS' ] #AKT, Honda, Susuki, UMA, YAMAHA, Y=AUTECO"
   ]
  },
  {
   "cell_type": "code",
   "execution_count": 26,
   "id": "e8b3856f-79a6-4edf-9a0d-78ca5522711a",
   "metadata": {
    "tags": []
   },
   "outputs": [],
   "source": [
    "data_segmento_1 = data_segmento[(data_segmento.Modelo.isin(precios_full))].reset_index(drop=True)\n",
    "precios_segmento_1 = precios_segmento[(precios_segmento.MODELO.isin(precios_full))].reset_index(drop=True)"
   ]
  },
  {
   "cell_type": "code",
   "execution_count": 28,
   "id": "ac83df02-4206-48e8-b748-df34e269804f",
   "metadata": {
    "tags": []
   },
   "outputs": [
    {
     "data": {
      "text/html": [
       "<div>\n",
       "<style scoped>\n",
       "    .dataframe tbody tr th:only-of-type {\n",
       "        vertical-align: middle;\n",
       "    }\n",
       "\n",
       "    .dataframe tbody tr th {\n",
       "        vertical-align: top;\n",
       "    }\n",
       "\n",
       "    .dataframe thead th {\n",
       "        text-align: right;\n",
       "    }\n",
       "</style>\n",
       "<table border=\"1\" class=\"dataframe\">\n",
       "  <thead>\n",
       "    <tr style=\"text-align: right;\">\n",
       "      <th></th>\n",
       "      <th>MODELO</th>\n",
       "      <th>PRECIO</th>\n",
       "      <th>FECHA</th>\n",
       "      <th>VARIACION_PRECIO</th>\n",
       "    </tr>\n",
       "  </thead>\n",
       "  <tbody>\n",
       "    <tr>\n",
       "      <th>0</th>\n",
       "      <td>YC110D (YC-Z)</td>\n",
       "      <td>4750000</td>\n",
       "      <td>2021-01-01</td>\n",
       "      <td>0.0</td>\n",
       "    </tr>\n",
       "    <tr>\n",
       "      <th>1</th>\n",
       "      <td>SPORT 100 ELS</td>\n",
       "      <td>3890000</td>\n",
       "      <td>2021-01-01</td>\n",
       "      <td>0.0</td>\n",
       "    </tr>\n",
       "    <tr>\n",
       "      <th>2</th>\n",
       "      <td>AK125CR4 EIII</td>\n",
       "      <td>4690000</td>\n",
       "      <td>2021-01-01</td>\n",
       "      <td>0.0</td>\n",
       "    </tr>\n",
       "    <tr>\n",
       "      <th>3</th>\n",
       "      <td>GN 125</td>\n",
       "      <td>5188000</td>\n",
       "      <td>2021-01-01</td>\n",
       "      <td>0.0</td>\n",
       "    </tr>\n",
       "    <tr>\n",
       "      <th>4</th>\n",
       "      <td>AK125CR4 EIII</td>\n",
       "      <td>4690000</td>\n",
       "      <td>2021-01-02</td>\n",
       "      <td>0.0</td>\n",
       "    </tr>\n",
       "  </tbody>\n",
       "</table>\n",
       "</div>"
      ],
      "text/plain": [
       "          MODELO   PRECIO      FECHA  VARIACION_PRECIO\n",
       "0  YC110D (YC-Z)  4750000 2021-01-01               0.0\n",
       "1  SPORT 100 ELS  3890000 2021-01-01               0.0\n",
       "2  AK125CR4 EIII  4690000 2021-01-01               0.0\n",
       "3         GN 125  5188000 2021-01-01               0.0\n",
       "4  AK125CR4 EIII  4690000 2021-01-02               0.0"
      ]
     },
     "execution_count": 28,
     "metadata": {},
     "output_type": "execute_result"
    }
   ],
   "source": [
    "precios_segmento_1.head(5)"
   ]
  },
  {
   "cell_type": "code",
   "execution_count": null,
   "id": "bfc22353-7b90-4d21-8209-359e51cf45cc",
   "metadata": {
    "tags": []
   },
   "outputs": [],
   "source": [
    "price = []\n",
    "for i in range(len(data_segmento_1)):\n",
    "    list_tmp = []\n",
    "    date_1 = data_segmento_1['Día natural'][i]\n",
    "    df_tmp = precios_segmento_1[(precios_segmento_1.MODELO == data_segmento_1.Modelo[i])].reset_index(drop=True)\n",
    "    for j in range(len(df_tmp)):\n",
    "        date_2 = df_tmp['FECHA'][j]\n",
    "        list_tmp.append(np.abs(date_1 - date_2))\n",
    "    \n",
    "    price.append(df_tmp.PRECIO[list_tmp.index(min(list_tmp))])"
   ]
  },
  {
   "cell_type": "code",
   "execution_count": null,
   "id": "3f8c01ba-5dad-4348-956e-eef75733c3fe",
   "metadata": {},
   "outputs": [],
   "source": [
    "data_segmento_1['precio'] = price"
   ]
  },
  {
   "cell_type": "code",
   "execution_count": null,
   "id": "94572766-2b70-4bd1-af9f-87483497a6df",
   "metadata": {},
   "outputs": [],
   "source": [
    "weeks = data_segmento_1.week.unique()"
   ]
  },
  {
   "cell_type": "code",
   "execution_count": null,
   "id": "8d1f8eac-1e76-4361-ada1-af5ea91a39dc",
   "metadata": {},
   "outputs": [],
   "source": [
    "data_segmento_1[(data_segmento_1.Modelo == 'SPORT 100 ELS')].reset_index(drop=True)"
   ]
  },
  {
   "cell_type": "code",
   "execution_count": null,
   "id": "70e62d33-cb1b-4766-8281-908469b133ed",
   "metadata": {},
   "outputs": [],
   "source": [
    "results = []\n",
    "for week in weeks:\n",
    "    Moto_1 = data_segmento_1[(data_segmento_1.Modelo == 'AK125CR4 EIII') & (data_segmento_1.week == week)].reset_index(drop=True)\n",
    "    Moto_2 = data_segmento_1[(data_segmento_1.Modelo == 'ECO DELUXE CW') & (data_segmento_1.week == week)].reset_index(drop=True)\n",
    "    Moto_3 = data_segmento_1[(data_segmento_1.Modelo == 'GN 125') & (data_segmento_1.week == week)].reset_index(drop=True)\n",
    "    Moto_4 = data_segmento_1[(data_segmento_1.Modelo == 'BOXER S') & (data_segmento_1.week == week)].reset_index(drop=True)\n",
    "    Moto_5 = data_segmento_1[(data_segmento_1.Modelo == 'YC110D (YC-Z)') & (data_segmento_1.week == week)].reset_index(drop=True)\n",
    "    target = data_segmento_1[(data_segmento_1.Modelo == 'SPORT 100 ELS') & (data_segmento_1.week == week)].reset_index(drop=True)\n",
    "    \n",
    "    result = {'date':week, 'AK125CR4 EIII(price)': np.mean(Moto_1['precio']),'ECO DELUXE CW(price)': np.mean(Moto_2['precio']), \n",
    "              'GN 125(price)': np.mean(Moto_3['precio']), 'BOXER S(price)': np.mean(Moto_4['precio']), 'YC110D (YC-Z)(price)': np.mean(Moto_5['precio']),\n",
    "              'AK125CR4 EIII(unidades)': sum(Moto_1['Cant. Total']),'ECO DELUXE CW(unidades)': sum(Moto_2['Cant. Total']), \n",
    "              'GN 125(unidades)': sum(Moto_3['Cant. Total']), 'BOXER S(unidades)': sum(Moto_4['Cant. Total']), 'YC110D (YC-Z)(unidades)': sum(Moto_5['Cant. Total']),\n",
    "              'SPORT 100 ELS(y)': sum(target['Cant. Total']), 'SPORT 100 ELS(price)': np.mean(target['precio'])}\n",
    "    results.append(result)"
   ]
  },
  {
   "cell_type": "code",
   "execution_count": null,
   "id": "bfdec433-89e0-462e-829a-7db7469e0d76",
   "metadata": {},
   "outputs": [],
   "source": [
    "df_COMMUTER_ENTRY = pd.DataFrame(results)"
   ]
  },
  {
   "cell_type": "code",
   "execution_count": null,
   "id": "768cf594-3a87-4f93-a051-fe661b197814",
   "metadata": {},
   "outputs": [],
   "source": [
    "df_COMMUTER_ENTRY.head(5)"
   ]
  },
  {
   "cell_type": "code",
   "execution_count": null,
   "id": "b16604ec-e38f-4ae7-a0df-3e62f1226bc3",
   "metadata": {},
   "outputs": [],
   "source": [
    "fig, ax = plt.subplots(figsize=(20,5))\n",
    "ax.plot(df_COMMUTER_ENTRY.date, df_COMMUTER_ENTRY['AK125CR4 EIII(price)'], label = 'AK125CR4 EIII(unidades)')\n",
    "ax.plot(df_COMMUTER_ENTRY.date, df_COMMUTER_ENTRY['ECO DELUXE CW(price)'], label = 'ECO DELUXE CW(unidades)')\n",
    "ax.plot(df_COMMUTER_ENTRY.date, df_COMMUTER_ENTRY['GN 125(price)'], label = 'GN 125(unidades)')\n",
    "ax.plot(df_COMMUTER_ENTRY.date, df_COMMUTER_ENTRY['BOXER S(price)'], label = 'BOXER S(unidades)')\n",
    "ax.plot(df_COMMUTER_ENTRY.date, df_COMMUTER_ENTRY['YC110D (YC-Z)(price)'], label = 'YC110D (YC-Z)(unidades)')\n",
    "ax.plot(df_COMMUTER_ENTRY.date, df_COMMUTER_ENTRY['SPORT 100 ELS(price)'], label = 'SPORT 100 ELS(y)')\n",
    "plt.legend()\n",
    "plt.show()"
   ]
  },
  {
   "cell_type": "code",
   "execution_count": null,
   "id": "259746af-5672-4e54-a6a0-d970358cb4c6",
   "metadata": {},
   "outputs": [],
   "source": []
  },
  {
   "cell_type": "markdown",
   "id": "060189fa-ec4d-40f6-a223-82f5bee10917",
   "metadata": {
    "jp-MarkdownHeadingCollapsed": true,
    "tags": []
   },
   "source": [
    "### Almacenar el dataframe procesado en la Zona Trusted del bucket"
   ]
  },
  {
   "cell_type": "code",
   "execution_count": null,
   "id": "3d00a0e0-25d5-409d-a107-f8b77ccdf3ad",
   "metadata": {},
   "outputs": [],
   "source": [
    "#### guardar info en el bucket\n",
    "BUCKET_NAME ='prr-integrador-grupo3'\n",
    "s3= boto3.resource('s3')\n",
    "data= df_COMMUTER_ENTRY\n",
    "s3.Bucket(BUCKET_NAME).put_object(Key='Zona-trusted/df_COMMUTER_ENTRY.csv',Body=data)"
   ]
  }
 ],
 "metadata": {
  "instance_type": "ml.t3.medium",
  "kernelspec": {
   "display_name": "Python 3 (Data Science)",
   "language": "python",
   "name": "python3__SAGEMAKER_INTERNAL__arn:aws:sagemaker:us-east-1:081325390199:image/datascience-1.0"
  },
  "language_info": {
   "codemirror_mode": {
    "name": "ipython",
    "version": 3
   },
   "file_extension": ".py",
   "mimetype": "text/x-python",
   "name": "python",
   "nbconvert_exporter": "python",
   "pygments_lexer": "ipython3",
   "version": "3.7.10"
  }
 },
 "nbformat": 4,
 "nbformat_minor": 5
}
